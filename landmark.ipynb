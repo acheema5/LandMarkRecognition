{
 "cells": [
  {
   "cell_type": "markdown",
   "metadata": {},
   "source": [
    "# Landmark Recongition Project"
   ]
  },
  {
   "cell_type": "code",
   "execution_count": 6,
   "metadata": {},
   "outputs": [
    {
     "name": "stdout",
     "output_type": "stream",
     "text": [
      "/Library/Developer/CommandLineTools/usr/bin/python3\n"
     ]
    }
   ],
   "source": [
    "import sys\n",
    "print(sys.executable)"
   ]
  },
  {
   "cell_type": "code",
   "execution_count": 4,
   "metadata": {},
   "outputs": [],
   "source": [
    "import numpy as np\n",
    "import pandas as pd\n",
    "import matplotlib.pyplot as plt\n",
    "import gradio as gd\n",
    "import PIL.Image as Image\n",
    "import tensorflow as tf\n",
    "import tensorflow_hub as hub\n",
    "import kagglehub"
   ]
  },
  {
   "cell_type": "code",
   "execution_count": 5,
   "metadata": {},
   "outputs": [
    {
     "data": {
      "application/vnd.jupyter.widget-view+json": {
       "model_id": "fa97cd3e96e54fecb24491a9582f687f",
       "version_major": 2,
       "version_minor": 0
      },
      "text/plain": [
       "Downloading 2 files:   0%|          | 0/2 [00:00<?, ?it/s]"
      ]
     },
     "metadata": {},
     "output_type": "display_data"
    },
    {
     "name": "stdout",
     "output_type": "stream",
     "text": [
      "Downloading from https://www.kaggle.com/api/v1/models/google/landmarks/tensorFlow1/classifier-north-america-v1/1/download/saved_model.pb...\n"
     ]
    },
    {
     "name": "stderr",
     "output_type": "stream",
     "text": []
    },
    {
     "name": "stdout",
     "output_type": "stream",
     "text": [
      "Downloading from https://www.kaggle.com/api/v1/models/google/landmarks/tensorFlow1/classifier-north-america-v1/1/download/tfhub_module.pb...\n"
     ]
    },
    {
     "name": "stderr",
     "output_type": "stream",
     "text": [
      "\n",
      "100%|██████████| 2.00/2.00 [00:00<00:00, 1.10kB/s]\n",
      "100%|██████████| 40.9M/40.9M [00:08<00:00, 5.20MB/s]"
     ]
    },
    {
     "name": "stdout",
     "output_type": "stream",
     "text": [
      "Model downloaded to: /Users/arjun/.cache/kagglehub/models/google/landmarks/tensorFlow1/classifier-north-america-v1/1\n"
     ]
    },
    {
     "name": "stderr",
     "output_type": "stream",
     "text": [
      "\n"
     ]
    }
   ],
   "source": [
    "path = kagglehub.model_download(\"google/landmarks/tensorFlow1/classifier-north-america-v1\")\n",
    "print(\"Model downloaded to:\", path)"
   ]
  },
  {
   "cell_type": "code",
   "execution_count": null,
   "metadata": {},
   "outputs": [],
   "source": [
    "model_path = \"/Users/arjun/.cache/kagglehub/models/google/landmarks/tensorFlow1/classifier-north-america-v1/1\"\n",
    "model = hub.KerasLayer(model_path, trainable=False)"
   ]
  },
  {
   "cell_type": "code",
   "execution_count": 16,
   "metadata": {},
   "outputs": [],
   "source": [
    "def preprocess_img(img):\n",
    "    img = img.resize((321,321))\n",
    "    img = np.array(img) / 255.0\n",
    "    img = img.astype(np.float32)\n",
    "    return img[np.newaxis,...]"
   ]
  },
  {
   "cell_type": "code",
   "execution_count": 21,
   "metadata": {},
   "outputs": [],
   "source": [
    "def classify_image(img):\n",
    "    try:\n",
    "        # Preprocess the image\n",
    "        input_tensor = preprocess_image(img)\n",
    "        \n",
    "        # Run the model to get the prediction\n",
    "        prediction = model(input_tensor)\n",
    "        \n",
    "        # Get the class index from the prediction\n",
    "        class_index = tf.argmax(prediction, axis=-1).numpy()[0]\n",
    "        \n",
    "        # Return the result\n",
    "        return f\"Predicted class index: {class_index}\"\n",
    "    \n",
    "    except Exception as e:\n",
    "        # Catch any errors that occur during the image processing or prediction\n",
    "        return f\"Error processing image: {e}\""
   ]
  },
  {
   "cell_type": "code",
   "execution_count": null,
   "metadata": {},
   "outputs": [],
   "source": [
    "gr.Interface(\n",
    "    fn=classify_image,\n",
    "    inputs=gr.Image(type=\"pil\"),\n",
    "    outputs=\"text\",\n",
    "    title=\"Landmark Classifier\",\n",
    "    description=\"Upload a photo of a landmark to identify it\"\n",
    ").launch()"
   ]
  }
 ],
 "metadata": {
  "kernelspec": {
   "display_name": "Python 3",
   "language": "python",
   "name": "python3"
  },
  "language_info": {
   "codemirror_mode": {
    "name": "ipython",
    "version": 3
   },
   "file_extension": ".py",
   "mimetype": "text/x-python",
   "name": "python",
   "nbconvert_exporter": "python",
   "pygments_lexer": "ipython3",
   "version": "3.11.5"
  }
 },
 "nbformat": 4,
 "nbformat_minor": 2
}
